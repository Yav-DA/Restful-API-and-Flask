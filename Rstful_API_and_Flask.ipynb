{
  "nbformat": 4,
  "nbformat_minor": 0,
  "metadata": {
    "colab": {
      "provenance": []
    },
    "kernelspec": {
      "name": "python3",
      "display_name": "Python 3"
    },
    "language_info": {
      "name": "python"
    }
  },
  "cells": [
    {
      "cell_type": "markdown",
      "source": [
        "THEORETICAL ANSWERS"
      ],
      "metadata": {
        "id": "kRqYMwzGCppN"
      }
    },
    {
      "cell_type": "markdown",
      "source": [
        "1. What is a RESTful API?\n",
        "*  A RESTful API is a way for different software systems to communicate over the web using standard HTTP methods like GET and POST. It follows rules of REST (Representational State Transfer), which helps keep the architecture simple, scalable, and stateless.\n",
        "\n",
        "2. Explain the concept of API specification\n",
        "*  An API specification is like a guidebook that tells developers how to use an API. It includes details like the available endpoints, request formats, parameters, and response structure, ensuring both backend and frontend developers are on the same page.\n",
        "\n",
        "3. What is Flask, and why is it popular for building APIs?\n",
        "* Flask is a lightweight Python web framework used to build web applications and APIs. It’s popular because it’s easy to use, flexible, and doesn’t force you to use a specific project structure or tools.\n",
        "\n",
        "4. What is routing in Flask?\n",
        "* Routing in Flask connects URLs with Python functions. When a user accesses a certain URL, Flask knows which function to run based on the route defined.\n",
        "\n",
        "5. How do you create a simple Flask application?\n",
        "* You can create a basic Flask app by installing Flask and writing a small script:"
      ],
      "metadata": {
        "id": "fgxgolDI6IAi"
      }
    },
    {
      "cell_type": "code",
      "source": [
        "from flask import Flask\n",
        "\n",
        "app = Flask(__name__)\n",
        "\n",
        "@app.route('/')\n",
        "def home():\n",
        "    return \"Hello, Flask!\"\n",
        "\n",
        "if __name__ == \"__main__\":\n",
        "    app.run(debug=True)"
      ],
      "metadata": {
        "colab": {
          "base_uri": "https://localhost:8080/"
        },
        "id": "j2v1h8np6Yb5",
        "outputId": "727541d4-6057-4815-ba1d-ac0d63ddbdcf"
      },
      "execution_count": 6,
      "outputs": [
        {
          "output_type": "stream",
          "name": "stdout",
          "text": [
            " * Serving Flask app '__main__'\n",
            " * Debug mode: on\n"
          ]
        },
        {
          "output_type": "stream",
          "name": "stderr",
          "text": [
            "INFO:werkzeug:\u001b[31m\u001b[1mWARNING: This is a development server. Do not use it in a production deployment. Use a production WSGI server instead.\u001b[0m\n",
            " * Running on http://127.0.0.1:5000\n",
            "INFO:werkzeug:\u001b[33mPress CTRL+C to quit\u001b[0m\n",
            "INFO:werkzeug: * Restarting with stat\n"
          ]
        }
      ]
    },
    {
      "cell_type": "markdown",
      "source": [
        "6. What are HTTP methods used in RESTful APIs?\n",
        "-The common methods are:\n",
        "\n",
        "* GET: To fetch data\n",
        "\n",
        "* POST: To send new data\n",
        "\n",
        "* PUT: To update existing data\n",
        "\n",
        "* DELETE: To remove data\n",
        "\n",
        "* PATCH: To partially update data\n",
        "\n",
        "7. What is the purpose of the @app.route() decorator in Flask?\n",
        "* It links a specific URL path to a function in your app. When someone visits that URL, the function runs.\n",
        "\n",
        "8. What is the difference between GET and POST HTTP methods?\n",
        "* GET: Retrieves data from the server and appends info in the URL.\n",
        "\n",
        "* POST: Sends data to the server in the request body, used for creating or submitting sensitive data.\n",
        "\n",
        "9. How do you handle errors in Flask APIs?\n",
        "* You can use Flask’s @app.errorhandler() decorator to define custom responses for errors like 404 or 500, and return meaningful messages in JSON.\n",
        "\n",
        "10. How do you connect Flask to a SQL database?\n",
        "* You can use extensions like Flask-SQLAlchemy to set up a connection using configuration values like DB URI, then define models and query them like regular Python objects.\n",
        "\n",
        "11. What is the role of Flask-SQLAlchemy?\n",
        "* It simplifies database integration with Flask. You can define tables as Python classes and use Python syntax to query or manipulate data.\n",
        "\n",
        "12. What are Flask blueprints, and how are they useful?\n",
        "* Blueprints allow you to organize a large Flask application into smaller, manageable components (like modules). Each can handle its own routes and logic.\n",
        "\n",
        "13. What is the purpose of Flask’s request object?\n",
        "* The request object gives you access to data coming into your app—like form data, JSON body, query strings, headers, etc.\n",
        "\n",
        "14. How do you create a RESTful API endpoint using Flask?\n",
        "* Define a route with methods and return JSON:"
      ],
      "metadata": {
        "id": "xUeSZTA36kHi"
      }
    },
    {
      "cell_type": "code",
      "source": [
        "from flask import Flask, jsonify\n",
        "\n",
        "app = Flask(__name__)\n",
        "\n",
        "@app.route('/api/greet', methods=['GET'])\n",
        "def greet():\n",
        "    return jsonify({\"message\": \"Hello from your Flask API!\"})\n",
        "\n",
        "if __name__ == '__main__':\n",
        "    app.run(debug=True)"
      ],
      "metadata": {
        "colab": {
          "base_uri": "https://localhost:8080/"
        },
        "id": "mq9xqZ4L66y1",
        "outputId": "82b9b25f-48a4-4958-d561-c2954352ed40"
      },
      "execution_count": 3,
      "outputs": [
        {
          "output_type": "stream",
          "name": "stdout",
          "text": [
            " * Serving Flask app '__main__'\n",
            " * Debug mode: on\n"
          ]
        },
        {
          "output_type": "stream",
          "name": "stderr",
          "text": [
            "INFO:werkzeug:\u001b[31m\u001b[1mWARNING: This is a development server. Do not use it in a production deployment. Use a production WSGI server instead.\u001b[0m\n",
            " * Running on http://127.0.0.1:5000\n",
            "INFO:werkzeug:\u001b[33mPress CTRL+C to quit\u001b[0m\n",
            "INFO:werkzeug: * Restarting with stat\n"
          ]
        }
      ]
    },
    {
      "cell_type": "markdown",
      "source": [
        "15. What is the purpose of Flask’s jsonify() function?\n",
        "* jsonify() turns Python dictionaries or lists into proper JSON responses that APIs usually return.\n",
        "\n",
        "16. Explain Flask’s url_for() function\n",
        "* url_for() dynamically generates URLs for a given function name. It’s useful when you want to avoid hardcoding URLs.\n",
        "\n",
        "17. How does Flask handle static files (CSS, JavaScript, etc.)?\n",
        "* Flask serves static files from the static/ directory by default. You can reference them in your templates using url_for('static', filename='style.css').\n",
        "\n",
        "18. What is an API specification, and how does it help in building a Flask API?\n",
        "* It’s a document that outlines how the API should behave. It makes it easier for teams to collaborate, test, and build clients for the API.\n",
        "\n",
        "19. What are HTTP status codes, and why are they important in a Flask API?\n",
        "* These codes tell the client how the request went. For example, 200 OK, 404 Not Found, or 500 Internal Server Error. They help clients understand the result of their request.\n",
        "\n",
        "20. How do you handle POST requests in Flask?\n",
        "* Use @app.route() with methods=['POST'] and access data using request.form or request.json:"
      ],
      "metadata": {
        "id": "J92pAnia695P"
      }
    },
    {
      "cell_type": "code",
      "source": [
        "from flask import Flask, request, jsonify\n",
        "\n",
        "app = Flask(__name__)\n",
        "\n",
        "@app.route('/api/submit', methods=['POST'])\n",
        "def submit_data():\n",
        "    data = request.json  # expects JSON body\n",
        "    name = data.get('name', 'Guest')\n",
        "    return jsonify({\"message\": f\"Hello, {name}!\"})\n",
        "\n",
        "if __name__ == '__main__':\n",
        "    app.run(debug=True)"
      ],
      "metadata": {
        "colab": {
          "base_uri": "https://localhost:8080/"
        },
        "id": "zxGJFbZi7NjG",
        "outputId": "b83ec1cf-f709-4dd6-cf5b-4be5775395d5"
      },
      "execution_count": 5,
      "outputs": [
        {
          "output_type": "stream",
          "name": "stdout",
          "text": [
            " * Serving Flask app '__main__'\n",
            " * Debug mode: on\n"
          ]
        },
        {
          "output_type": "stream",
          "name": "stderr",
          "text": [
            "INFO:werkzeug:\u001b[31m\u001b[1mWARNING: This is a development server. Do not use it in a production deployment. Use a production WSGI server instead.\u001b[0m\n",
            " * Running on http://127.0.0.1:5000\n",
            "INFO:werkzeug:\u001b[33mPress CTRL+C to quit\u001b[0m\n",
            "INFO:werkzeug: * Restarting with stat\n"
          ]
        }
      ]
    },
    {
      "cell_type": "markdown",
      "source": [
        "21. How would you secure a Flask API?\n",
        "* Some ways include using authentication (JWT or OAuth), HTTPS, validating inputs, rate limiting, and protecting against common web threats like XSS and CSRF.\n",
        "\n",
        "22. What is the significance of the Flask-RESTful extension?\n",
        "* It helps in building REST APIs quickly. It organizes your code better using resources and provides helpful tools like automatic response formatting.\n",
        "\n",
        "23. What is the role of Flask’s session object?\n",
        "* session helps you store data for a user across requests (like login info). It uses cookies and is useful for managing user-specific data.\n",
        "\n"
      ],
      "metadata": {
        "id": "KeyBuUST7PJ_"
      }
    },
    {
      "cell_type": "markdown",
      "source": [
        "PRACTICAL ANSWERS"
      ],
      "metadata": {
        "id": "trn0FNa3Cv-J"
      }
    },
    {
      "cell_type": "markdown",
      "source": [
        "1. How do you create a basic Flask application?"
      ],
      "metadata": {
        "id": "3EzSUFfy-avW"
      }
    },
    {
      "cell_type": "code",
      "source": [
        "from flask import Flask\n",
        "\n",
        "app = Flask(__name__)\n",
        "\n",
        "@app.route('/')\n",
        "def home():\n",
        "    return \"Welcome to Flask!\"\n",
        "\n",
        "if __name__ == '__main__':\n",
        "    app.run(debug=True)"
      ],
      "metadata": {
        "id": "CJR9l5eP-bhd",
        "outputId": "e7114f96-4fdc-4bd4-90b4-955ee0620ebf",
        "colab": {
          "base_uri": "https://localhost:8080/"
        }
      },
      "execution_count": 6,
      "outputs": [
        {
          "output_type": "stream",
          "name": "stdout",
          "text": [
            " * Serving Flask app '__main__'\n",
            " * Debug mode: on\n"
          ]
        },
        {
          "output_type": "stream",
          "name": "stderr",
          "text": [
            "INFO:werkzeug:\u001b[31m\u001b[1mWARNING: This is a development server. Do not use it in a production deployment. Use a production WSGI server instead.\u001b[0m\n",
            " * Running on http://127.0.0.1:5000\n",
            "INFO:werkzeug:\u001b[33mPress CTRL+C to quit\u001b[0m\n",
            "INFO:werkzeug: * Restarting with stat\n"
          ]
        }
      ]
    },
    {
      "cell_type": "markdown",
      "source": [
        "2. How do you serve static files like images or CSS in Flask?\n",
        "Answer:\n",
        "\n",
        "In a regular Flask setup, static files are stored in a static/ folder and accessed using url_for('static', filename='yourfile.css').\n"
      ],
      "metadata": {
        "id": "_ZNvT2KO-1Wa"
      }
    },
    {
      "cell_type": "markdown",
      "source": [
        "3. How do you define different routes with different HTTP methods in Flask?"
      ],
      "metadata": {
        "id": "woSdpbyGBRoJ"
      }
    },
    {
      "cell_type": "code",
      "source": [
        "from flask import Flask, request\n",
        "\n",
        "app = Flask(__name__)\n",
        "\n",
        "@app.route('/user', methods=['GET', 'POST'])\n",
        "def user():\n",
        "    if request.method == 'POST':\n",
        "        return \"User created\"\n",
        "    return \"User data\"\n",
        "\n",
        "if __name__ == '__main__':\n",
        "    app.run(debug=True)"
      ],
      "metadata": {
        "id": "jaGxBxlVBYHD",
        "outputId": "cc52d69b-a00d-4ef4-c4ba-60bbcc0fcb50",
        "colab": {
          "base_uri": "https://localhost:8080/"
        }
      },
      "execution_count": 9,
      "outputs": [
        {
          "output_type": "stream",
          "name": "stdout",
          "text": [
            " * Serving Flask app '__main__'\n",
            " * Debug mode: on\n"
          ]
        },
        {
          "output_type": "stream",
          "name": "stderr",
          "text": [
            "INFO:werkzeug:\u001b[31m\u001b[1mWARNING: This is a development server. Do not use it in a production deployment. Use a production WSGI server instead.\u001b[0m\n",
            " * Running on http://127.0.0.1:5000\n",
            "INFO:werkzeug:\u001b[33mPress CTRL+C to quit\u001b[0m\n",
            "INFO:werkzeug: * Restarting with stat\n"
          ]
        }
      ]
    },
    {
      "cell_type": "markdown",
      "source": [
        "4. How do you render HTML templates in Flask?\n",
        "Answer:\n",
        "\n",
        "Create a folder named templates/\n",
        "\n",
        "Add an HTML file like index.html\n",
        "\n",
        "Python code:"
      ],
      "metadata": {
        "id": "P7VNhg24BcMB"
      }
    },
    {
      "cell_type": "code",
      "source": [
        "from flask import Flask, render_template\n",
        "\n",
        "app = Flask(__name__)\n",
        "\n",
        "@app.route('/')\n",
        "def home():\n",
        "    return render_template('index.html')"
      ],
      "metadata": {
        "id": "XAATNRFCBh-5"
      },
      "execution_count": 10,
      "outputs": []
    },
    {
      "cell_type": "markdown",
      "source": [
        "5. How can you generate URLs for routes in Flask using url_for?"
      ],
      "metadata": {
        "id": "vEAyTNuABl2G"
      }
    },
    {
      "cell_type": "code",
      "source": [
        "from flask import Flask, url_for\n",
        "\n",
        "app = Flask(__name__)\n",
        "\n",
        "@app.route('/')\n",
        "def index():\n",
        "    return url_for('profile')\n",
        "\n",
        "@app.route('/profile')\n",
        "def profile():\n",
        "    return \"User profile\""
      ],
      "metadata": {
        "id": "3r3wSNUtBo77"
      },
      "execution_count": 11,
      "outputs": []
    },
    {
      "cell_type": "markdown",
      "source": [
        "6. How do you handle forms in Flask?"
      ],
      "metadata": {
        "id": "rk7oTMs1Bryd"
      }
    },
    {
      "cell_type": "code",
      "source": [
        "from flask import Flask, request, render_template\n",
        "\n",
        "app = Flask(__name__)\n",
        "\n",
        "@app.route('/form', methods=['GET', 'POST'])\n",
        "def form():\n",
        "    if request.method == 'POST':\n",
        "        name = request.form['name']\n",
        "        return f\"Hello {name}\"\n",
        "    return render_template('form.html')"
      ],
      "metadata": {
        "id": "Jnl_CzlLBt98"
      },
      "execution_count": 12,
      "outputs": []
    },
    {
      "cell_type": "markdown",
      "source": [
        "7. How can you validate form data in Flask?"
      ],
      "metadata": {
        "id": "azPLgooHBxnL"
      }
    },
    {
      "cell_type": "code",
      "source": [
        "@app.route('/submit', methods=['POST'])\n",
        "def submit():\n",
        "    name = request.form.get('name')\n",
        "    if not name:\n",
        "        return \"Name is required\", 400\n",
        "    return f\"Welcome, {name}\""
      ],
      "metadata": {
        "id": "Kyg9AB7wB0hf"
      },
      "execution_count": 13,
      "outputs": []
    },
    {
      "cell_type": "markdown",
      "source": [
        "8. How do you manage sessions in Flask?"
      ],
      "metadata": {
        "id": "3CevES5iB3uQ"
      }
    },
    {
      "cell_type": "code",
      "source": [
        "from flask import Flask, session\n",
        "\n",
        "app = Flask(__name__)\n",
        "app.secret_key = 'secretkey'\n",
        "\n",
        "@app.route('/login')\n",
        "def login():\n",
        "    session['user'] = 'yavnika'\n",
        "    return \"Logged in\"\n",
        "\n",
        "@app.route('/profile')\n",
        "def profile():\n",
        "    user = session.get('user')\n",
        "    return f\"Welcome {user}\""
      ],
      "metadata": {
        "id": "LidQxXlVB6Ks"
      },
      "execution_count": 14,
      "outputs": []
    },
    {
      "cell_type": "markdown",
      "source": [
        "9. How do you redirect to a different route in Flask?"
      ],
      "metadata": {
        "id": "lHurHUeEB9BU"
      }
    },
    {
      "cell_type": "code",
      "source": [
        "from flask import Flask, redirect, url_for\n",
        "\n",
        "app = Flask(__name__)\n",
        "\n",
        "@app.route('/')\n",
        "def home():\n",
        "    return redirect(url_for('login'))\n",
        "\n",
        "@app.route('/login')\n",
        "def login():\n",
        "    return \"Please log in\""
      ],
      "metadata": {
        "id": "8AoLYkRzB_eo"
      },
      "execution_count": 15,
      "outputs": []
    },
    {
      "cell_type": "markdown",
      "source": [
        "10. How do you handle errors in Flask (e.g., 404)?"
      ],
      "metadata": {
        "id": "wbeXUtjjCCKe"
      }
    },
    {
      "cell_type": "code",
      "source": [
        "@app.errorhandler(404)\n",
        "def page_not_found(e):\n",
        "    return \"Page not found!\", 404"
      ],
      "metadata": {
        "id": "xNOoLtyPCEYD"
      },
      "execution_count": 16,
      "outputs": []
    },
    {
      "cell_type": "markdown",
      "source": [
        "11. How do you structure a Flask app using Blueprints?"
      ],
      "metadata": {
        "id": "xfeVvSdOCHSn"
      }
    },
    {
      "cell_type": "code",
      "source": [
        "from flask import Blueprint\n",
        "\n",
        "user_blueprint = Blueprint('user', __name__)\n",
        "\n",
        "@user_blueprint.route('/user')\n",
        "def user_home():\n",
        "    return \"User Home\""
      ],
      "metadata": {
        "id": "fJk-4qZCCJqi"
      },
      "execution_count": 18,
      "outputs": []
    },
    {
      "cell_type": "markdown",
      "source": [
        "12. How do you define a custom Jinja filter in Flask?"
      ],
      "metadata": {
        "id": "kcERGw8ZCQKl"
      }
    },
    {
      "cell_type": "code",
      "source": [
        "@app.template_filter('reverse')\n",
        "def reverse_filter(s):\n",
        "    return s[::-1]"
      ],
      "metadata": {
        "id": "fEzSQddbCSk2"
      },
      "execution_count": 19,
      "outputs": []
    },
    {
      "cell_type": "markdown",
      "source": [
        "13. How can you redirect with query parameters in Flask?"
      ],
      "metadata": {
        "id": "R-J7dDXaCVEZ"
      }
    },
    {
      "cell_type": "code",
      "source": [
        "from flask import Flask, redirect, url_for\n",
        "\n",
        "app = Flask(__name__)\n",
        "\n",
        "@app.route('/search')\n",
        "def search():\n",
        "    return redirect(url_for('results', q='flask'))\n",
        "\n",
        "@app.route('/results')\n",
        "def results():\n",
        "    return request.args.get('q')"
      ],
      "metadata": {
        "id": "gmYlPTshCXe7"
      },
      "execution_count": 20,
      "outputs": []
    },
    {
      "cell_type": "markdown",
      "source": [
        "14. How do you return JSON responses in Flask?"
      ],
      "metadata": {
        "id": "jp64Te0iCak4"
      }
    },
    {
      "cell_type": "code",
      "source": [
        "from flask import jsonify\n",
        "\n",
        "@app.route('/api/info')\n",
        "def info():\n",
        "    return jsonify({\"name\": \"Flask\", \"version\": \"2.0\"})"
      ],
      "metadata": {
        "id": "DJxqPoenCczx"
      },
      "execution_count": 21,
      "outputs": []
    },
    {
      "cell_type": "markdown",
      "source": [
        "15. How do you capture URL parameters in Flask?"
      ],
      "metadata": {
        "id": "ilLF-FHoCfmG"
      }
    },
    {
      "cell_type": "code",
      "source": [
        "@app.route('/user/<username>')\n",
        "def user_profile(username):\n",
        "    return f\"Welcome, {username}\""
      ],
      "metadata": {
        "id": "-pppbzO0Ch-A"
      },
      "execution_count": 22,
      "outputs": []
    },
    {
      "cell_type": "markdown",
      "source": [],
      "metadata": {
        "id": "1oOFjndT_Bwe"
      }
    },
    {
      "cell_type": "code",
      "execution_count": null,
      "metadata": {
        "id": "xD6x0-3-6ATa"
      },
      "outputs": [],
      "source": []
    }
  ]
}